{
 "cells": [
  {
   "cell_type": "markdown",
   "id": "4c997455",
   "metadata": {},
   "source": [
    "# Proyecto Final Analítica de Datos\n",
    "\n",
    "### En este proyecto se utiliza una base de datos que contiene datos de diferentes personas que han sufrido, o no, un ataque cerebral. Lo que se busca hacer en este proyecto es: \n",
    "\n",
    "### Un exploratory data analysis, para entender el tamaño, tipos de datos, valores nulos/blancos, valores atípicos y si existen datos atípicos y saber que hacer con los mismos. Realizar una correlación de los datos y visualizar las distribuciones de los datos.\n",
    "\n",
    "### Una limpieza de la base de datos, con el fin de poder balancearla y tener datos correctos al momento de hacer el análisis de los mismos.\n",
    "\n",
    "### Usar una prueba estadística para encontrar que método balancea mejor los datos, entre SMOTE y Random Over Sampling.\n",
    "\n",
    "### Una división de la base de datos en sets de entrenamiento, verificación y prueba para poder realizar los algoritmos. \n",
    "\n",
    "### Aplicar los algoritmos de Regresión Logística, KNN, Random Forest, Random Search, Grid Search y Bagging\n",
    "\n",
    "### Evaluar cada modelo con curvas ROC, métricas de evaluación y matrices de confusión.\n",
    "\n",
    "### Seleccionar el mejor modelo en base a las métricas de evaluación"
   ]
  },
  {
   "cell_type": "code",
   "execution_count": null,
   "id": "6d8383bc",
   "metadata": {},
   "outputs": [],
   "source": []
  }
 ],
 "metadata": {
  "kernelspec": {
   "display_name": "Python 3 (ipykernel)",
   "language": "python",
   "name": "python3"
  },
  "language_info": {
   "codemirror_mode": {
    "name": "ipython",
    "version": 3
   },
   "file_extension": ".py",
   "mimetype": "text/x-python",
   "name": "python",
   "nbconvert_exporter": "python",
   "pygments_lexer": "ipython3",
   "version": "3.9.13"
  }
 },
 "nbformat": 4,
 "nbformat_minor": 5
}
